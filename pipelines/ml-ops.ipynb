{
 "cells": [
  {
   "cell_type": "code",
   "execution_count": 1,
   "id": "03a23e2f-950f-4555-8f9d-9efadda751bb",
   "metadata": {},
   "outputs": [],
   "source": [
    "from os import environ\n",
    "\n",
    "from data_ingestion import ingest_data\n",
    "from model_upload import upload_model\n",
    "from training import train\n",
    "from preprocessing import preprocess"
   ]
  },
  {
   "cell_type": "code",
   "execution_count": 2,
   "id": "c10c8e69-c75e-4de3-95c0-232e6980d7d9",
   "metadata": {},
   "outputs": [
    {
     "name": "stdout",
     "output_type": "stream",
     "text": [
      "1. INGEST DATA\n",
      "#####################################\n",
      ">>> Starting data ingestion.\n",
      "  ingest_data(data_object_name=live-data.csv and data_folder=./data)\n",
      "  Downloading data \"live-data.csv\" from bucket \"ml-ops\" from S3 storage at https://minio-api-minio.apps.daedalus.sandbox242.opentlc.com to ./data/data.csv\n",
      "<<< Finished data ingestion.\n"
     ]
    }
   ],
   "source": [
    "# Ingest data from bucket\n",
    "print('1. INGEST DATA')\n",
    "print('#####################################')\n",
    "ingest_data()"
   ]
  },
  {
   "cell_type": "code",
   "execution_count": 3,
   "id": "a3a36e5d-10e3-46fa-a30d-d2ce0b018938",
   "metadata": {},
   "outputs": [
    {
     "name": "stdout",
     "output_type": "stream",
     "text": [
      "2. PREPROCESS\n",
      "#####################################\n",
      ">>> Preprocessing data\n",
      "  Saving training data\n",
      "  Saving test data\n",
      ">>> Finished processing\n"
     ]
    }
   ],
   "source": [
    "print('2. PREPROCESS')\n",
    "print('#####################################')\n",
    "preprocess()"
   ]
  },
  {
   "cell_type": "code",
   "execution_count": 4,
   "id": "6c69bdac-510e-42df-8e75-1da27a5cca3b",
   "metadata": {},
   "outputs": [
    {
     "name": "stdout",
     "output_type": "stream",
     "text": [
      "3. TRAIN\n",
      "#####################################\n",
      ">>> Training model\n",
      "  Fitting pipeline\n",
      "  Dumping model to model.joblib\n",
      ">>> Finished training model\n"
     ]
    }
   ],
   "source": [
    "print('3. TRAIN')\n",
    "print('#####################################')\n",
    "train()"
   ]
  },
  {
   "cell_type": "code",
   "execution_count": 5,
   "id": "5f569b12-bf4e-4e27-a843-652d19c5be43",
   "metadata": {},
   "outputs": [
    {
     "name": "stdout",
     "output_type": "stream",
     "text": [
      "4. UPLOAD MODEL\n",
      "#####################################\n",
      ">>> Start model upload.\n",
      "  Uploading model to bucket ml-ops to S3 storage at https://minio-api-minio.apps.daedalus.sandbox242.opentlc.com\n",
      "<<< Finished uploading model.\n"
     ]
    }
   ],
   "source": [
    "print('4. UPLOAD MODEL')\n",
    "print('#####################################')\n",
    "upload_model()"
   ]
  }
 ],
 "metadata": {
  "kernelspec": {
   "display_name": "Python 3.9.16",
   "language": "python",
   "name": "python3"
  },
  "language_info": {
   "codemirror_mode": {
    "name": "ipython",
    "version": 3
   },
   "file_extension": ".py",
   "mimetype": "text/x-python",
   "name": "python",
   "nbconvert_exporter": "python",
   "pygments_lexer": "ipython3",
   "version": "3.9.16"
  }
 },
 "nbformat": 4,
 "nbformat_minor": 5
}
