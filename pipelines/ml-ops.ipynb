{
 "cells": [
  {
   "cell_type": "code",
   "execution_count": 18,
   "id": "03a23e2f-950f-4555-8f9d-9efadda751bb",
   "metadata": {
    "tags": []
   },
   "outputs": [],
   "source": [
    "%reload_ext autoreload\n",
    "%autoreload all\n",
    "from os import environ\n",
    "\n",
    "from data_ingestion import ingest_data\n",
    "from model_upload import upload_model\n",
    "from training import train\n",
    "from preprocessing import preprocess\n",
    "from prediction import predict,predict_onnx"
   ]
  },
  {
   "cell_type": "code",
   "execution_count": 3,
   "id": "c10c8e69-c75e-4de3-95c0-232e6980d7d9",
   "metadata": {
    "tags": []
   },
   "outputs": [
    {
     "name": "stdout",
     "output_type": "stream",
     "text": [
      "1. INGEST DATA\n",
      "#####################################\n",
      ">>> Starting data ingestion\n",
      "  ingest_data(data_object_name=data-sets/live-data.csv and data_folder=/opt/app-root/src/data)\n",
      "  Downloading data \"data-sets/live-data.csv\" from bucket \"mlops\" from S3 storage at http://minio-service.minio:9000 to /opt/app-root/src/data/data.csv\n",
      "<<< Finished data ingestion\n"
     ]
    }
   ],
   "source": [
    "# Ingest data from bucket\n",
    "print('1. INGEST DATA')\n",
    "print('#####################################')\n",
    "ingest_data()"
   ]
  },
  {
   "cell_type": "code",
   "execution_count": 4,
   "id": "a3a36e5d-10e3-46fa-a30d-d2ce0b018938",
   "metadata": {},
   "outputs": [
    {
     "name": "stdout",
     "output_type": "stream",
     "text": [
      "2. PREPROCESS\n",
      "#####################################\n",
      ">>> Preprocessing data\n",
      "  Saving training data\n",
      "  Saving test data\n",
      ">>> Finished processing\n"
     ]
    }
   ],
   "source": [
    "print('2. PREPROCESS')\n",
    "print('#####################################')\n",
    "preprocess()"
   ]
  },
  {
   "cell_type": "code",
   "execution_count": 5,
   "id": "6c69bdac-510e-42df-8e75-1da27a5cca3b",
   "metadata": {},
   "outputs": [
    {
     "name": "stdout",
     "output_type": "stream",
     "text": [
      "3. TRAIN\n",
      "#####################################\n",
      ">>> Training model\n",
      "  Fitting pipeline\n",
      "  Dumping model to model.joblib\n",
      "  Transform the model file from pkl to onnx\n",
      ">>> Finished training model\n"
     ]
    }
   ],
   "source": [
    "print('3. TRAIN')\n",
    "print('#####################################')\n",
    "train()"
   ]
  },
  {
   "cell_type": "code",
   "execution_count": 6,
   "id": "5f569b12-bf4e-4e27-a843-652d19c5be43",
   "metadata": {},
   "outputs": [
    {
     "name": "stdout",
     "output_type": "stream",
     "text": [
      "4. UPLOAD MODEL\n",
      "#####################################\n",
      ">>> Start model upload.\n",
      "  Uploading model to bucket mlops to S3 storage at http://minio-service.minio:9000\n",
      "<<< Finished uploading model.\n"
     ]
    }
   ],
   "source": [
    "print('4. UPLOAD MODEL')\n",
    "print('#####################################')\n",
    "upload_model()"
   ]
  },
  {
   "cell_type": "code",
   "execution_count": 19,
   "id": "030e6f9d-e1a6-4567-bdb3-260e6c729733",
   "metadata": {
    "tags": []
   },
   "outputs": [
    {
     "name": "stdout",
     "output_type": "stream",
     "text": [
      "5. TEST MODEL\n",
      "#####################################\n",
      ">>> Running prediction\n",
      "MODEL_PATH=/opt/app-root/src/data/model.pkl\n",
      "   longitude  latitude  housing_median_age  total_rooms  total_bedrooms  \\\n",
      "0    -122.06     37.99                17.0       1319.0           316.0   \n",
      "\n",
      "   population  households  median_income ocean_proximity  \n",
      "0       384.0       269.0         1.8229        NEAR BAY  \n"
     ]
    },
    {
     "data": {
      "text/plain": [
       "{'status': 'success',\n",
       " 'value': [143028.94512841123],\n",
       " 'valueType': 'float',\n",
       " 'explanation': 'linear regressor value'}"
      ]
     },
     "execution_count": 19,
     "metadata": {},
     "output_type": "execute_result"
    }
   ],
   "source": [
    "print('5. TEST MODEL')\n",
    "print('#####################################')\n",
    "predict()"
   ]
  },
  {
   "cell_type": "code",
   "execution_count": 20,
   "id": "2b4d436f-85c0-489e-bf72-0b48fc7e2a7a",
   "metadata": {
    "tags": []
   },
   "outputs": [
    {
     "name": "stdout",
     "output_type": "stream",
     "text": [
      "6. TEST ONNX MODEL\n",
      "#####################################\n",
      ">>> Running prediction\n",
      "model_path=/opt/app-root/src/data/model.onnx\n"
     ]
    },
    {
     "ename": "NotImplemented",
     "evalue": "[ONNXRuntimeError] : 9 : NOT_IMPLEMENTED : Could not find an implementation for Imputer(1) node with name 'Imputer'",
     "output_type": "error",
     "traceback": [
      "\u001b[0;31m---------------------------------------------------------------------------\u001b[0m",
      "\u001b[0;31mNotImplemented\u001b[0m                            Traceback (most recent call last)",
      "Cell \u001b[0;32mIn[20], line 3\u001b[0m\n\u001b[1;32m      1\u001b[0m \u001b[38;5;28mprint\u001b[39m(\u001b[38;5;124m'\u001b[39m\u001b[38;5;124m6. TEST ONNX MODEL\u001b[39m\u001b[38;5;124m'\u001b[39m)\n\u001b[1;32m      2\u001b[0m \u001b[38;5;28mprint\u001b[39m(\u001b[38;5;124m'\u001b[39m\u001b[38;5;124m#####################################\u001b[39m\u001b[38;5;124m'\u001b[39m)\n\u001b[0;32m----> 3\u001b[0m \u001b[43mpredict_onnx\u001b[49m\u001b[43m(\u001b[49m\u001b[43m)\u001b[49m\n",
      "File \u001b[0;32m~/ml-ops/pipelines/prediction.py:108\u001b[0m, in \u001b[0;36mpredict_onnx\u001b[0;34m(data_folder, model_file_name)\u001b[0m\n\u001b[1;32m    102\u001b[0m data \u001b[38;5;241m=\u001b[39m [\n\u001b[1;32m    103\u001b[0m     [\u001b[38;5;241m-\u001b[39m\u001b[38;5;241m122.23\u001b[39m, \u001b[38;5;241m37.88\u001b[39m, \u001b[38;5;241m41.0\u001b[39m, \u001b[38;5;241m880.0\u001b[39m, \u001b[38;5;241m129.0\u001b[39m, \u001b[38;5;241m322.0\u001b[39m, \u001b[38;5;241m126.0\u001b[39m, \u001b[38;5;241m8.3252\u001b[39m],  \u001b[38;5;66;03m# Numeric features\u001b[39;00m\n\u001b[1;32m    104\u001b[0m     [\u001b[38;5;124m\"\u001b[39m\u001b[38;5;124mNEAR BAY\u001b[39m\u001b[38;5;124m\"\u001b[39m]  \u001b[38;5;66;03m# Categorical feature\u001b[39;00m\n\u001b[1;32m    105\u001b[0m ]\n\u001b[1;32m    107\u001b[0m \u001b[38;5;66;03m# Load the ONNX model\u001b[39;00m\n\u001b[0;32m--> 108\u001b[0m sess \u001b[38;5;241m=\u001b[39m \u001b[43monnxruntime\u001b[49m\u001b[38;5;241;43m.\u001b[39;49m\u001b[43mInferenceSession\u001b[49m\u001b[43m(\u001b[49m\u001b[43mmodel_path\u001b[49m\u001b[43m)\u001b[49m\n\u001b[1;32m    110\u001b[0m \u001b[38;5;66;03m# Convert input data to a numpy array\u001b[39;00m\n\u001b[1;32m    111\u001b[0m input_data \u001b[38;5;241m=\u001b[39m np\u001b[38;5;241m.\u001b[39marray(data)\n",
      "File \u001b[0;32m/opt/app-root/lib64/python3.9/site-packages/onnxruntime/capi/onnxruntime_inference_collection.py:383\u001b[0m, in \u001b[0;36mInferenceSession.__init__\u001b[0;34m(self, path_or_bytes, sess_options, providers, provider_options, **kwargs)\u001b[0m\n\u001b[1;32m    380\u001b[0m disabled_optimizers \u001b[38;5;241m=\u001b[39m kwargs[\u001b[38;5;124m\"\u001b[39m\u001b[38;5;124mdisabled_optimizers\u001b[39m\u001b[38;5;124m\"\u001b[39m] \u001b[38;5;28;01mif\u001b[39;00m \u001b[38;5;124m\"\u001b[39m\u001b[38;5;124mdisabled_optimizers\u001b[39m\u001b[38;5;124m\"\u001b[39m \u001b[38;5;129;01min\u001b[39;00m kwargs \u001b[38;5;28;01melse\u001b[39;00m \u001b[38;5;28;01mNone\u001b[39;00m\n\u001b[1;32m    382\u001b[0m \u001b[38;5;28;01mtry\u001b[39;00m:\n\u001b[0;32m--> 383\u001b[0m     \u001b[38;5;28;43mself\u001b[39;49m\u001b[38;5;241;43m.\u001b[39;49m\u001b[43m_create_inference_session\u001b[49m\u001b[43m(\u001b[49m\u001b[43mproviders\u001b[49m\u001b[43m,\u001b[49m\u001b[43m \u001b[49m\u001b[43mprovider_options\u001b[49m\u001b[43m,\u001b[49m\u001b[43m \u001b[49m\u001b[43mdisabled_optimizers\u001b[49m\u001b[43m)\u001b[49m\n\u001b[1;32m    384\u001b[0m \u001b[38;5;28;01mexcept\u001b[39;00m (\u001b[38;5;167;01mValueError\u001b[39;00m, \u001b[38;5;167;01mRuntimeError\u001b[39;00m) \u001b[38;5;28;01mas\u001b[39;00m e:\n\u001b[1;32m    385\u001b[0m     \u001b[38;5;28;01mif\u001b[39;00m \u001b[38;5;28mself\u001b[39m\u001b[38;5;241m.\u001b[39m_enable_fallback:\n",
      "File \u001b[0;32m/opt/app-root/lib64/python3.9/site-packages/onnxruntime/capi/onnxruntime_inference_collection.py:435\u001b[0m, in \u001b[0;36mInferenceSession._create_inference_session\u001b[0;34m(self, providers, provider_options, disabled_optimizers)\u001b[0m\n\u001b[1;32m    432\u001b[0m     disabled_optimizers \u001b[38;5;241m=\u001b[39m \u001b[38;5;28mset\u001b[39m(disabled_optimizers)\n\u001b[1;32m    434\u001b[0m \u001b[38;5;66;03m# initialize the C++ InferenceSession\u001b[39;00m\n\u001b[0;32m--> 435\u001b[0m \u001b[43msess\u001b[49m\u001b[38;5;241;43m.\u001b[39;49m\u001b[43minitialize_session\u001b[49m\u001b[43m(\u001b[49m\u001b[43mproviders\u001b[49m\u001b[43m,\u001b[49m\u001b[43m \u001b[49m\u001b[43mprovider_options\u001b[49m\u001b[43m,\u001b[49m\u001b[43m \u001b[49m\u001b[43mdisabled_optimizers\u001b[49m\u001b[43m)\u001b[49m\n\u001b[1;32m    437\u001b[0m \u001b[38;5;28mself\u001b[39m\u001b[38;5;241m.\u001b[39m_sess \u001b[38;5;241m=\u001b[39m sess\n\u001b[1;32m    438\u001b[0m \u001b[38;5;28mself\u001b[39m\u001b[38;5;241m.\u001b[39m_sess_options \u001b[38;5;241m=\u001b[39m \u001b[38;5;28mself\u001b[39m\u001b[38;5;241m.\u001b[39m_sess\u001b[38;5;241m.\u001b[39msession_options\n",
      "\u001b[0;31mNotImplemented\u001b[0m: [ONNXRuntimeError] : 9 : NOT_IMPLEMENTED : Could not find an implementation for Imputer(1) node with name 'Imputer'"
     ]
    }
   ],
   "source": [
    "print('6. TEST ONNX MODEL')\n",
    "print('#####################################')\n",
    "predict_onnx()"
   ]
  }
 ],
 "metadata": {
  "kernelspec": {
   "display_name": "Python 3.9",
   "language": "python",
   "name": "python3"
  },
  "language_info": {
   "codemirror_mode": {
    "name": "ipython",
    "version": 3
   },
   "file_extension": ".py",
   "mimetype": "text/x-python",
   "name": "python",
   "nbconvert_exporter": "python",
   "pygments_lexer": "ipython3",
   "version": "3.9.16"
  }
 },
 "nbformat": 4,
 "nbformat_minor": 5
}
